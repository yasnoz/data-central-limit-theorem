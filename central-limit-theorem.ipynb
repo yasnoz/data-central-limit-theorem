{
 "cells": [
  {
   "cell_type": "markdown",
   "metadata": {},
   "source": [
    "# The Central Limit Theorem - A first approach"
   ]
  },
  {
   "cell_type": "markdown",
   "metadata": {},
   "source": [
    "## 📚  1) Introduction to the CLT"
   ]
  },
  {
   "cell_type": "markdown",
   "metadata": {},
   "source": [
    "🚀  **Two convergence theorems revolutionized the disciplines of probability and statistics:**\n",
    "- **`LLN`: the Law of Large Numbers**\n",
    "- **`CLT`: the Central Limit Theorem**\n",
    "\n",
    "🧑🏻‍🏫  What is the CLT ? According to [Wikipedia](https://en.wikipedia.org/wiki/Central_limit_theorem)\n",
    "\n",
    "> The CLT states that when independent random variables are summed up, their normalized sum tends towards a **`Gaussian distribution`**  even if the original variables themselves were not normally distributed.\n",
    "\n",
    "> The Gaussian distribution is also known as a **`Normal Distribution`** or a **`bell curve`**.\n",
    "\n",
    "\n",
    "<details>\n",
    "    <summary>Why is the CLT a key concept of probability theory?</summary>\n",
    "    \n",
    "👉   Because it implies that probabilistic and statistical methods that work for normal distributions can be applicable to many problems involving other types of distributions.\n",
    "    \n",
    "🤔   Not clear for you yet ? No problem, we will elaborate on this during the `Decision Science - Inferential Statistics` chapter\n",
    "    \n",
    "As we love to say at ***`Le Wagon`***, ***Trust the process!***\n",
    "    \n",
    "</details>"
   ]
  },
  {
   "cell_type": "markdown",
   "metadata": {},
   "source": [
    "🎯  Let's illustrate how to use the [Central Limit Theorem](https://en.wikipedia.org/wiki/Central_limit_theorem) in a dataset:\n",
    "\n",
    "* Given a population, let's consider a feature (example: size, weight, salary, etc...) for each individual.\n",
    "\n",
    "\n",
    "🚀  The important takeaway of these two theorems is that **whatever the shape of the distribution** of a given feature over the population **is**, **the distribution of the (sampled) mean<u>S</u> tends to be Gaussian**:\n",
    "* `the mean of the means` = $ \\mu$ (Law of Large Numbers)\n",
    "* `the standard deviation of the means` = $ \\frac{\\sigma}{\\sqrt{n}} $  (Central Limit Theorem)\n",
    "\n",
    "![](https://upload.wikimedia.org/wikipedia/commons/thumb/7/7b/IllustrationCentralTheorem.png/400px-IllustrationCentralTheorem.png)\n",
    "\n",
    "💡  We can wrap it up the following way:\n",
    "\n",
    "$$ \\large \\bar{X} \\approx_{n \\rightarrow \\infty} \\mathcal{N}(\\mu,\\frac{\\sigma}{\\sqrt{n}}) $$"
   ]
  },
  {
   "cell_type": "markdown",
   "metadata": {},
   "source": [
    "Not convinced?  Play by yourself with this [no-code dataviz tool](https://seeing-theory.brown.edu/probability-distributions/) first! \n",
    " (section CTL)\n",
    "\n",
    "<img src=\"https://wagon-public-datasets.s3.amazonaws.com/data-science-images/math/ctl_playground.png\" width=500>\n"
   ]
  },
  {
   "cell_type": "markdown",
   "metadata": {},
   "source": [
    "👩🏻‍🔬  Now, let's verify this experimentally with Python!"
   ]
  },
  {
   "cell_type": "markdown",
   "metadata": {},
   "source": [
    "---"
   ]
  },
  {
   "cell_type": "markdown",
   "metadata": {},
   "source": [
    "## 🔢  2) The Dataset"
   ]
  },
  {
   "cell_type": "markdown",
   "metadata": {},
   "source": [
    "👉 In this challenge, we will use the `tips` dataset from the `seaborn` library to illustrate the Central Limit Theorem."
   ]
  },
  {
   "cell_type": "code",
   "execution_count": null,
   "metadata": {},
   "outputs": [],
   "source": [
    "# --- Data Manipulation ---\n",
    "import numpy as np\n",
    "import pandas as pd\n",
    "\n",
    "# --- Data Visualization ---\n",
    "import seaborn as sns\n",
    "import matplotlib.pyplot as plt\n",
    "\n",
    "# --- Maths ---\n",
    "import math"
   ]
  },
  {
   "cell_type": "code",
   "execution_count": null,
   "metadata": {},
   "outputs": [],
   "source": [
    "tips_df = sns.load_dataset('tips')\n",
    "tips_df"
   ]
  },
  {
   "cell_type": "markdown",
   "metadata": {},
   "source": [
    "### 🧐  2.1) Exploratory Data Analysis (EDA)"
   ]
  },
  {
   "cell_type": "markdown",
   "metadata": {},
   "source": [
    "❓ How many rows are available in the dataset ❓"
   ]
  },
  {
   "cell_type": "code",
   "execution_count": null,
   "metadata": {
    "tags": [
     "challengify"
    ]
   },
   "outputs": [],
   "source": [
    "# YOUR CODE HERE"
   ]
  },
  {
   "cell_type": "markdown",
   "metadata": {},
   "source": [
    "❓ Plot the distribution of the `tip` column 📊 (with 20 bins) ❓"
   ]
  },
  {
   "cell_type": "code",
   "execution_count": null,
   "metadata": {
    "tags": [
     "challengify"
    ]
   },
   "outputs": [],
   "source": [
    "# YOUR CODE HERE"
   ]
  },
  {
   "cell_type": "markdown",
   "metadata": {},
   "source": [
    "❓ Question 1 ❓\n",
    "\n",
    "What are :\n",
    "* the ***average tip***\n",
    "* the ***standard deviation tip*** \n",
    "* the  [***skewness of the tips***](https://en.wikipedia.org/wiki/Skewness)\n",
    "\n",
    "of the tips? \n",
    "\n",
    "Store them into three variables called respectively `tips_mu`, `tips_sigma` and `tips_skew`"
   ]
  },
  {
   "cell_type": "code",
   "execution_count": null,
   "metadata": {
    "tags": [
     "challengify"
    ]
   },
   "outputs": [],
   "source": [
    "# YOUR CODE HERE"
   ]
  },
  {
   "cell_type": "markdown",
   "metadata": {},
   "source": [
    "❓ Question 2 ❓\n",
    "\n",
    "What is the skewness of the tips: left, right, non-skewed? Store your answer in a string variable called `skewness`"
   ]
  },
  {
   "cell_type": "code",
   "execution_count": null,
   "metadata": {
    "tags": [
     "challengify"
    ]
   },
   "outputs": [],
   "source": [
    "# YOUR CODE HERE"
   ]
  },
  {
   "cell_type": "code",
   "execution_count": null,
   "metadata": {},
   "outputs": [],
   "source": [
    "tips_df.tip.describe()"
   ]
  },
  {
   "cell_type": "markdown",
   "metadata": {},
   "source": [
    "<details>\n",
    "    <summary>Answer for the question related to the skewness:</summary>\n",
    "\n",
    "* the \"mode\" seems to be around 2 dollars `(we can't really talk about a mode for a continuous variable but just looking at the histogram with 20 bins, we can give an estimation)\n",
    "    \n",
    "* the \"mean\" is at 2.99 dollars\n",
    "    \n",
    "* the median is at 2.90 dollars\n",
    "    \n",
    "So here we have $ mode < median < mean $ which correspond to a `right skewness` if you go back to the `Statistics and Probability` slides 😉\n",
    "    \n",
    "    \n",
    "</details>"
   ]
  },
  {
   "cell_type": "markdown",
   "metadata": {},
   "source": [
    " 🧪 **Test your code**"
   ]
  },
  {
   "cell_type": "code",
   "execution_count": null,
   "metadata": {},
   "outputs": [],
   "source": [
    "from nbresult import ChallengeResult\n",
    "\n",
    "result = ChallengeResult('distribution',\n",
    "    skewness=skewness,\n",
    "    mu=tips_mu,\n",
    "    sigma=tips_sigma\n",
    ")\n",
    "result.write()\n",
    "print(result.check())"
   ]
  },
  {
   "cell_type": "markdown",
   "metadata": {},
   "source": [
    "### 🎲 2.2) Sampling mean"
   ]
  },
  {
   "cell_type": "markdown",
   "metadata": {},
   "source": [
    "❓ Pick randomly - and with replacement - 10 rows of the dataset, and compute the mean $\\bar{X}$ of that sample ❓\n",
    "\n",
    "👉 Run the cell a few times. Do you get the same result each time? Is this expected?"
   ]
  },
  {
   "cell_type": "code",
   "execution_count": null,
   "metadata": {
    "tags": [
     "challengify"
    ]
   },
   "outputs": [],
   "source": [
    "# YOUR CODE HERE"
   ]
  },
  {
   "cell_type": "markdown",
   "metadata": {},
   "source": [
    "---"
   ]
  },
  {
   "cell_type": "markdown",
   "metadata": {},
   "source": [
    "## 🔥 3) Applying the CLT"
   ]
  },
  {
   "cell_type": "markdown",
   "metadata": {},
   "source": [
    "### 3.1) <u>Graphically</u>"
   ]
  },
  {
   "cell_type": "markdown",
   "metadata": {},
   "source": [
    "👉 Create a `means` list storing a list of means of $N$ samples of size $n$.\n",
    "\n",
    "Start with $n = 5$ and $N = 10$\n",
    "\n",
    "📊  In the same cell, **plot** the distribution of `means`. \n",
    "\n",
    "🧐 Let's play with the <u>*sample size n*</u> and the <u>*number of samples N</u>*:\n",
    "* Keep $n$ constant, increase $N$ and observe. What do you conclude?"
   ]
  },
  {
   "cell_type": "code",
   "execution_count": null,
   "metadata": {
    "tags": [
     "challengify"
    ]
   },
   "outputs": [],
   "source": [
    "# YOUR CODE HERE"
   ]
  },
  {
   "cell_type": "markdown",
   "metadata": {},
   "source": [
    "<details>\n",
    "    <summary>What is happening when <u><i>n is fixed</i></u> and <u><i>N increases</i></u>?</summary>\n",
    "\n",
    "* `N` (how many times we sample) controls the random noise. \n",
    "\n",
    "* When large enough, histograms always look the same when you re-run the cell. To convince yourself, re-run the previous cell several times with with N = 5000\n",
    "\n",
    "</details>"
   ]
  },
  {
   "cell_type": "markdown",
   "metadata": {},
   "source": [
    "* Now, keep $N$ constant, increase $n$ and observe. What do you conclude?"
   ]
  },
  {
   "cell_type": "code",
   "execution_count": null,
   "metadata": {},
   "outputs": [],
   "source": [
    "n = 2\n",
    "N = 100\n",
    "means = [tips_df.tip.sample(n, replace=True).mean() for i in range(N)]\n",
    "\n",
    "sns.histplot(means, bins=20)"
   ]
  },
  {
   "cell_type": "code",
   "execution_count": null,
   "metadata": {},
   "outputs": [],
   "source": [
    "n = 30 # CLT applies mostly with n greater than 30\n",
    "N = 100\n",
    "means = [tips_df.tip.sample(n, replace=True).mean() for i in range(N)]\n",
    "\n",
    "sns.histplot(means, bins=20)"
   ]
  },
  {
   "cell_type": "markdown",
   "metadata": {},
   "source": [
    "<details>\n",
    "    <summary>What is happening when <u><i>N is fixed</i></u> and <u><i>n increases</i></u>?</summary>\n",
    "    \n",
    "* `n` (sample size) controls the shape of the distribution. \n",
    "\n",
    "* When large enough, it *converges* towards a Normal distribution. This is the Central Limit Theorem. \n",
    "\n",
    "</details>\n",
    "\n"
   ]
  },
  {
   "cell_type": "markdown",
   "metadata": {},
   "source": [
    "### 3.2) <u>Numerically</u>"
   ]
  },
  {
   "cell_type": "markdown",
   "metadata": {},
   "source": [
    "❓ Let's verify the Central Limit Theorem computationally ❓\n",
    "- Compare `tips_mu` with the mean of means\n",
    "- Compare `tips_sigma` with the standard deviation of the means, but don't forget the $\\sqrt n$ adjustment\n",
    "- Compute the `skewness` of the distribution of the means using `scipy.stats.skew` (should be close to 0)\n",
    "- Compute the `kurtosis` of the distribution of the means using `scipy.stats.kurtosis`(should be close to 0)\n"
   ]
  },
  {
   "cell_type": "code",
   "execution_count": null,
   "metadata": {},
   "outputs": [],
   "source": [
    "from scipy.stats import skew, kurtosis\n",
    "\n",
    "pass  # YOUR CODE HERE"
   ]
  },
  {
   "cell_type": "markdown",
   "metadata": {},
   "source": [
    "## 💪  4) Use case: Probabilities of accumulating large tips at the end of a work-day"
   ]
  },
  {
   "cell_type": "markdown",
   "metadata": {},
   "source": [
    "🤔 Let's pick 100 meals from the dataset, sampling with replacement. What is the probability that the cumulated tips ends up being **greater than 350€**?\n"
   ]
  },
  {
   "cell_type": "markdown",
   "metadata": {},
   "source": [
    "1️⃣ Before we answer this question, start by familiarizing yourself with the [**`scipy.stats.norm.pdf`**](https://docs.scipy.org/doc/scipy/reference/generated/scipy.stats.norm.html) tool: \n",
    "\n",
    "❓ Can you plot a Normal Distribution pdf with a mean and standard deviation of your choice?"
   ]
  },
  {
   "cell_type": "code",
   "execution_count": null,
   "metadata": {},
   "outputs": [],
   "source": [
    "from scipy.stats import norm\n",
    "\n",
    "mu_example = 10\n",
    "sigma_example = 7\n",
    "\n",
    "pass  # YOUR CODE HERE"
   ]
  },
  {
   "cell_type": "markdown",
   "metadata": {},
   "source": [
    "🤗 `scipy.stats.norm.pdf` is a **convenient way to draw a Gaussian curve**.\n",
    "\n",
    "The **probability density function** (_a.k.a._ ***pdf***) of a Normal Distribution with parameters $ \\mu $ and $ \\sigma $ is defined by:\n",
    "\n",
    "$$ y = \\frac{1}{\\sigma \\sqrt{2 \\pi}} e^{-\\frac{1}{2} (\\frac{x - \\mu}{\\sigma})^2}$$\n",
    "\n",
    "😅 Without this function from Scipy, you would have to define a _Gaussian Probability Density Function_ by yourself to plot the Gaussian Curve."
   ]
  },
  {
   "cell_type": "code",
   "execution_count": null,
   "metadata": {},
   "outputs": [],
   "source": [
    "def gaussian_probability_density_function(mu,sigma, x):\n",
    "    return 1/(sigma * np.sqrt(2*(math.pi))) * np.exp(- (1/2)*((x-mu)/sigma)**2)"
   ]
  },
  {
   "cell_type": "code",
   "execution_count": null,
   "metadata": {},
   "outputs": [],
   "source": [
    "mu_example = 10\n",
    "sigma_example = 7\n",
    "\n",
    "# start a figure\n",
    "plt.figure(figsize=(10,5))\n",
    "\n",
    "# First subplot :\n",
    "# Plotting a Gaussian distribution using Scipy Stats\n",
    "plt.subplot(2,2,1)\n",
    "plt.plot(x, norm(mu_example, sigma_example).pdf(x), c=\"blue\")\n",
    "plt.title(\"Gaussian Curve drawn using Scipy Stats\");\n",
    "\n",
    "# Second subplot :\n",
    "# Plotting a Gaussian distribution using our own Python function\n",
    "plt.subplot(2,2,2)\n",
    "plt.plot(x, gaussian_probability_density_function(mu_example, sigma_example, x), c=\"pink\")\n",
    "plt.title(\"Gaussian curve drawn with a function\");\n"
   ]
  },
  {
   "cell_type": "markdown",
   "metadata": {},
   "source": [
    "2️⃣ Back to our exercise:\n",
    "\n",
    "<u>The real numbers:</u>\n",
    "\n",
    "From our Exploratory Data Analysis, we have:\n",
    "- 244 tips (global population)\n",
    "- $\\mu=3€$\n",
    "- $\\sigma=1.38€$\n",
    "\n",
    "<u>Sampling once</u>\n",
    "\n",
    "- Imagine that we draw a sample of size 100 out of the global population of meals\n",
    "- We observe the sum of these 100 sample tips is 350€, so the average tip $\\mu_X$ is 3.5€ for this sample\n",
    "- **The operation of drawing a sample is random, therefore the average of these sampled data will also be random**\n",
    "\n",
    "<u>Distribution of samples</u>\n",
    "\n",
    "❓ Can you guess what would be the **shape** of the **<u>distribution of the means</u>** of these samples **if we were to <u>draw many other samples</u>** of the same size like this one  \n",
    "\n",
    "❓ In other words, how do you imagine:\n",
    "- its shape?\n",
    "- its mean? (store into a variable called **`mu_expected`**)\n",
    "- its standard deviation? (store it into a variable called **`sigma_expected`**)"
   ]
  },
  {
   "cell_type": "markdown",
   "metadata": {},
   "source": [
    "<img src='https://wagon-public-datasets.s3.amazonaws.com/data-science-images/math/ctl.png' width=1000>"
   ]
  },
  {
   "cell_type": "markdown",
   "metadata": {},
   "source": [
    "<details>\n",
    "    <summary>💡 Hint:</summary>\n",
    "\n",
    "🎉 Our sample of size $ n = 100 > 30 $ can be considered large enough to apply the Central Limit Theorem (CLT) \n",
    "    \n",
    "👉 If we were to repeat this experiment (i.e. randomly picking a sample of size 100) an infinite number of times, the distribution of sample mean**s** would become exactly a normal distribution.\n",
    "    \n",
    "🔥 **A Gaussian distribution is _FULLY_ characterized by its _mean_ and its _standard deviation_**\n",
    "    \n",
    "❓ What are these mean and standard deviation in the context of a Central Limit Theorem ❓ If you forgot about it, scroll up in your notebook! \n",
    "\n",
    "</details>"
   ]
  },
  {
   "cell_type": "markdown",
   "metadata": {},
   "source": [
    "<details>\n",
    "    <summary>🧑🏻‍🏫 Answer:</summary>\n",
    "\n",
    "- Shape = Gaussian\n",
    "- `mu_expected` = `mu`\n",
    "- `sigma_expected` = `sigma` / $ \\sqrt{n} $\n",
    "</details>"
   ]
  },
  {
   "cell_type": "markdown",
   "metadata": {},
   "source": [
    "❓ Plot this expected distribution\n",
    "- On top of it, add the datapoint representing a cumulated tip of 350€ over 100 meals."
   ]
  },
  {
   "cell_type": "code",
   "execution_count": null,
   "metadata": {
    "tags": [
     "challengify"
    ]
   },
   "outputs": [],
   "source": [
    "# YOUR CODE HERE"
   ]
  },
  {
   "cell_type": "markdown",
   "metadata": {},
   "source": [
    "👉 For this restaurant, we clearly see that 350 euros of cumulated tips over 100 meals (average tip of 3.50 euros) seems to be is virtually impossible (this probability of this event would be close to zero).\n",
    "\n",
    "🍔 It is probably a cheap restaurant serving burgers and fries until 4 AM...\n",
    "\n",
    "We are almost at the end of the challenge!\n",
    "\n",
    "🔢 Let's denote $ \\bar{X} $ the average tip over 100 meals \n",
    "\n",
    "* ❓ Compute numerically $ \\mathbb{P} ( \\bar{X} > 3.50 ) $ and store it in `proba_350` variable ❓\n",
    "* 📚 You will need the **`cumulative distribution function (cdf)`** from [`scipy.stats.norm`](https://docs.scipy.org/doc/scipy/reference/generated/scipy.stats.norm.html)"
   ]
  },
  {
   "cell_type": "code",
   "execution_count": null,
   "metadata": {
    "tags": [
     "challengify"
    ]
   },
   "outputs": [],
   "source": [
    "# YOUR CODE HERE"
   ]
  },
  {
   "cell_type": "markdown",
   "metadata": {},
   "source": [
    "❗️ If we had observed such an amount, we could have deduced with a 99.99% confidence level that the 100 meals selected were ***not randomly sampled*** from the population of meals."
   ]
  },
  {
   "cell_type": "markdown",
   "metadata": {},
   "source": [
    "🧪 **Test your code**"
   ]
  },
  {
   "cell_type": "code",
   "execution_count": null,
   "metadata": {},
   "outputs": [],
   "source": [
    "from nbresult import ChallengeResult\n",
    "\n",
    "result = ChallengeResult('probability',\n",
    "    n=100,\n",
    "    mu_expected=mu_expected,\n",
    "    mu=tips_mu,\n",
    "    sigma_expected=sigma_expected,\n",
    "    sigma=tips_sigma,\n",
    "    proba=proba_350\n",
    ")\n",
    "result.write()\n",
    "print(result.check())"
   ]
  },
  {
   "cell_type": "markdown",
   "metadata": {},
   "source": [
    "## ⭐️  5) The `z-score`"
   ]
  },
  {
   "cell_type": "markdown",
   "metadata": {},
   "source": [
    "<u>**Alternative computation using z-score**</u>\n",
    "\n",
    "🤔 Imagine you didn't have access to the `SciPy` library (or even to a computer) to compute the probability density function of a custom-made Gaussian distribution numerically. Which workaround could we use to this end?  \n",
    "\n",
    "💡 Instead of computing a Gaussian distribution with specific mean and sigma, a much more elegant way is to rephrase our problem to use the **`Standard Normal distribution`** $\\mathcal N(0,1)$, from which we could read usual values in a **`Standard Statistical table`** 👇\n",
    "\n",
    "$$ X \\sim \\mathcal N(\\mu,\\sigma) \\leftrightarrow Y =  \\frac{X - \\mu}{\\sigma} \\sim \\mathcal N(0,1) $$"
   ]
  },
  {
   "cell_type": "markdown",
   "metadata": {},
   "source": [
    "<img src='https://wagon-public-datasets.s3.amazonaws.com/data-science-images/math/z-table.png'>"
   ]
  },
  {
   "cell_type": "markdown",
   "metadata": {},
   "source": [
    "❓First, compute the [z-score](https://en.wikipedia.org/wiki/Standard_score) of your observation, and store it into a variable `z`❓\n",
    "\n",
    "As a reminder: \n",
    "* sample size $ n = 100$\n",
    "* mean $ = 3.5$ €\n",
    "\n",
    "> The **`z-score`** of a measured observation $x$ is simply the value of the observation, **measured by the number of standard deviations above or below the mean** of the underlying distribution from which the observation is derived.\n",
    "\n",
    "$$z={x-\\mu  \\over \\sigma }$$\n",
    "\n",
    "<details>\n",
    "    <summary>💡 Hint</summary>\n",
    "In our case, the value we observe is \"3.5€\", and the underlying distribution from which this observation was made is the means of samples (of size 100), which is Gaussian/normal with a mean $\\mu$ and a std $\\sigma \\over \\sqrt{100}$ according to the CLT.\n",
    "\n",
    "</details>"
   ]
  },
  {
   "cell_type": "code",
   "execution_count": null,
   "metadata": {},
   "outputs": [],
   "source": [
    "z = None"
   ]
  },
  {
   "cell_type": "markdown",
   "metadata": {},
   "source": [
    "❓ Use the standard table above to find the probability we are looking for."
   ]
  },
  {
   "cell_type": "markdown",
   "metadata": {
    "tags": [
     "challengify"
    ]
   },
   "source": [
    "> YOUR ANSWER HERE"
   ]
  },
  {
   "cell_type": "markdown",
   "metadata": {},
   "source": [
    "❓ Double-check this probability with with `scipy.stats.norm` as done previously. Store it into a `proba_z` variable."
   ]
  },
  {
   "cell_type": "code",
   "execution_count": null,
   "metadata": {},
   "outputs": [],
   "source": [
    "proba_z = None"
   ]
  },
  {
   "cell_type": "markdown",
   "metadata": {},
   "source": [
    "🧪 **Test your code**"
   ]
  },
  {
   "cell_type": "code",
   "execution_count": null,
   "metadata": {},
   "outputs": [],
   "source": [
    "from nbresult import ChallengeResult\n",
    "\n",
    "result = ChallengeResult('zscore',\n",
    "    z=z,\n",
    "    proba=proba_z\n",
    ")\n",
    "result.write()\n",
    "print(result.check())"
   ]
  },
  {
   "cell_type": "markdown",
   "metadata": {},
   "source": [
    "🎉 Congratulations if you managed to go through this challenge!\n",
    "\n",
    "📆 If you couldn't reach this one, we will revisit the `Central Limit Theorem` during the `Recap session`\n",
    "\n",
    "🥇 If you are a beast, challenge yourself with the optional exercises like `Bayes Theorem`, `Markov Chains` or `Mean without outliers`!"
   ]
  }
 ],
 "metadata": {
  "kernelspec": {
   "display_name": "Python 3",
   "language": "python",
   "name": "python3"
  }
 },
 "nbformat": 4,
 "nbformat_minor": 4
}
